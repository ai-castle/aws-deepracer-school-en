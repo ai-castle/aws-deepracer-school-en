{
 "cells": [
  {
   "attachments": {},
   "cell_type": "markdown",
   "metadata": {},
   "source": [
    "# AWS DeepRacer School"
   ]
  },
  {
   "cell_type": "markdown",
   "metadata": {},
   "source": [
    "```{admonition} Subtitles for videos (Premium 🚀)\n",
    "English, Deutsch, Español, Français, Bahasa Indonesia, Italiano, 日本語, 한국어, Nederlands, Polski, Português, Русский, ภาษาไทย,Türkçe,Tiếng Việt, 简体中文, 繁體中文, हिन्दी, العربية\n",
    "```"
   ]
  },
  {
   "attachments": {},
   "cell_type": "markdown",
   "metadata": {},
   "source": [
    "```{warning}\n",
    "All materials in this place are copyrighted by AI Castle Inc. It is prohibited to use or distribute these materials for commercial purposes without a separate contract.\n",
    "```"
   ]
  },
  {
   "attachments": {},
   "cell_type": "markdown",
   "metadata": {},
   "source": [
    "## Course Introduction"
   ]
  },
  {
   "attachments": {},
   "cell_type": "markdown",
   "metadata": {},
   "source": [
    "<center>\n",
    "<iframe width=\"560\" height=\"315\" src=\"https://www.youtube.com/embed/MHgeNjDWFpA\" title=\"YouTube video player\" frameborder=\"0\" allow=\"accelerometer; autoplay; clipboard-write; encrypted-media; gyroscope; picture-in-picture; web-share\" allowfullscreen></iframe>\n",
    "</center>"
   ]
  },
  {
   "attachments": {},
   "cell_type": "markdown",
   "metadata": {},
   "source": [
    "**Welcome to our Autonomous Car Course featuring AWS DeepRacer!**\n",
    "\n",
    "Embark on an exciting journey into the world of artificial intelligence (AI), reinforcement learning, and self-driving technology with this comprehensive and engaging course.\n",
    "\n",
    "AWS DeepRacer is the fastest way to create your very own autonomous car, offering an unparalleled approach to learning AI and reinforcement learning in an enjoyable and accessible manner.\n",
    "\n",
    "In this course, you'll delve into various topics such as:\n",
    "\n",
    "1. Autonomous driving\n",
    "\n",
    "2. Artificail Intelligence\n",
    "\n",
    "3. Deep learning\n",
    "\n",
    "4. Reinforcement learning\n",
    "\n",
    "5. Python programming\n",
    "\n",
    "6. Cloud computing\n",
    "\n",
    "7. AWS\n",
    "\n",
    "8. DeepRacer operation\n",
    "\n",
    "9. League participation and various tips\n",
    "\n",
    "The course includes Python programming education, ensuring that it is accessible to anyone, even without prior programming knowledge.\n",
    "\n",
    "Throughout the course, you'll explore the fundamentals of AI and reinforcement learning, along with their real-world applications. You'll learn about autonomous driving technologies such as camera and LiDAR sensors and delve into different levels of vehicle autonomy.\n",
    "\n",
    "We'll introduce you to the AWS DeepRacer platform and help you understand the advantages of cloud computing. You'll acquire essential Python programming skills through hands-on exercises, providing you with the tools to develop your own autonomous driving models.\n",
    "\n",
    "As you progress, you'll learn how to design, train, test, and deploy models on physical vehicles. We'll also cover performance evaluation and optimization techniques to ensure your models run smoothly and efficiently.\n",
    "\n",
    "Throughout the course, we'll offer valuable tips and strategies for success in the AWS DeepRacer League and encourage collaboration and community engagement for a well-rounded learning experience.\n",
    "\n",
    "By the end of this course, you'll have a solid understanding of AI, reinforcement learning, and self-driving technologies, setting the foundation for continued exploration and innovation. Join us on this engaging and accessible adventure with AWS DeepRacer! "
   ]
  },
  {
   "attachments": {},
   "cell_type": "markdown",
   "metadata": {},
   "source": [
    "```{admonition} Contact : edu@ai-castle.com\n",
    "- If you are interested in DeepRacer training, please contact AI Castle! \n",
    "- AI Castle has excellent instructors always ready to help.\n",
    "```"
   ]
  }
 ],
 "metadata": {
  "kernelspec": {
   "display_name": "Python 3",
   "language": "python",
   "name": "python3"
  },
  "language_info": {
   "codemirror_mode": {
    "name": "ipython",
    "version": 3
   },
   "file_extension": ".py",
   "mimetype": "text/x-python",
   "name": "python",
   "nbconvert_exporter": "python",
   "pygments_lexer": "ipython3",
   "version": "3.10.6"
  },
  "orig_nbformat": 4,
  "vscode": {
   "interpreter": {
    "hash": "31f2aee4e71d21fbe5cf8b01ff0e069b9275f58929596ceb00d14d90e3e16cd6"
   }
  }
 },
 "nbformat": 4,
 "nbformat_minor": 2
}
