{
 "cells": [
  {
   "attachments": {},
   "cell_type": "markdown",
   "metadata": {},
   "source": [
    "# Pricing"
   ]
  },
  {
   "attachments": {},
   "cell_type": "markdown",
   "metadata": {},
   "source": [
    "### Premium 요금\n",
    "\n",
    "<h1> <b>$15</b> </h1>\n",
    "\n",
    "- **매월 멤버 1인당 $15**\n",
    "- PPT 무제한 보기\n",
    "- 모든 동영상 강의 무제한 스트리밍\n",
    "- 20개 언어 자막 지원  \n",
    "  > English, Deutsch, Español, Français, Bahasa Indonesia, Italiano, 日本語, 한국어, Nederlands, Polski, Português, Русский, ภาษาไทย,Türkçe,Tiếng Việt, 简体中文, 繁體中文, हिन्दी, العربية\n",
    "- Q&A : 동영상에 댓글달기를 통해 질문하고 답변 받기 가능.\n",
    "---"
   ]
  },
  {
   "attachments": {},
   "cell_type": "markdown",
   "metadata": {},
   "source": [
    "### 요금 할인\n",
    "- 기간에 따른 추가 할인 : 세달 이상 시 25% 할인\n",
    "- 멤버 수에 따른 추가 할인\n",
    "  - 50명 이상 : 10% 추가 할인\n",
    "  - 100명 이상 : 20% 추가 할인\n",
    "  - 200명 이상 : 30% 추가 할인\n",
    "---"
   ]
  },
  {
   "attachments": {},
   "cell_type": "markdown",
   "metadata": {},
   "source": [
    "### 요금 계산기\n",
    "\n",
    "<div class=\"form-group\">\n",
    "    <label for=\"numStudents\">멤버 수:</label>\n",
    "    <input type=\"number\" id=\"numStudents\" name=\"numStudents\" oninput=\"calculatePrice()\" value=\"1\">\n",
    "</div>\n",
    "<div class=\"form-group\">\n",
    "    <label for=\"numMonths\">기간 (월):</label>\n",
    "    <input type=\"number\" id=\"numMonths\" name=\"numMonths\" oninput=\"calculatePrice()\" value=\"1\">\n",
    "</div>\n",
    "<b> <p id=\"result\">전체 요금: $15 (할인율: 0%)</p></b>\n",
    "<p> 부가세는 제외 된 금액입니다. </p>\n",
    "<script>\n",
    "    function calculatePrice() {\n",
    "        // 입력값 가져오기\n",
    "        var numStudents = parseInt(document.getElementById(\"numStudents\").value);\n",
    "        var numMonths = parseInt(document.getElementById(\"numMonths\").value);\n",
    "        // 할인 계산\n",
    "        var discountRate = 0;\n",
    "        if (numMonths >= 3) {\n",
    "            discountRate += 0.25;\n",
    "        }\n",
    "        if (numStudents >= 50) {\n",
    "            discountRate += 0.1;\n",
    "        }\n",
    "        if (numStudents >= 100) {\n",
    "            discountRate += 0.1;\n",
    "        }\n",
    "        if (numStudents >= 200) {\n",
    "            discountRate += 0.1;\n",
    "        }\n",
    "        // 요금 계산\n",
    "        var basePrice = numStudents * 15 * numMonths;\n",
    "        var discountAmount = basePrice * discountRate;\n",
    "        var totalPrice = basePrice - discountAmount;\n",
    "        // 결과 출력\n",
    "        var result = \"전체 요금: $\" + totalPrice.toFixed(2) + \" (할인율: \" + (discountRate * 100).toFixed(0) + \"%)\";\n",
    "        document.getElementById(\"result\").innerHTML = result;\n",
    "    }\n",
    "</script>"
   ]
  }
 ],
 "metadata": {
  "kernelspec": {
   "display_name": "Python 3",
   "language": "python",
   "name": "python3"
  },
  "language_info": {
   "codemirror_mode": {
    "name": "ipython",
    "version": 3
   },
   "file_extension": ".py",
   "mimetype": "text/x-python",
   "name": "python",
   "nbconvert_exporter": "python",
   "pygments_lexer": "ipython3",
   "version": "3.10.6"
  },
  "orig_nbformat": 4,
  "vscode": {
   "interpreter": {
    "hash": "31f2aee4e71d21fbe5cf8b01ff0e069b9275f58929596ceb00d14d90e3e16cd6"
   }
  }
 },
 "nbformat": 4,
 "nbformat_minor": 2
}
