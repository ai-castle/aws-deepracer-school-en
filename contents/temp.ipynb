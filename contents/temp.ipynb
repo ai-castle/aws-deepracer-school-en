{
 "cells": [
  {
   "cell_type": "code",
   "execution_count": 3,
   "metadata": {},
   "outputs": [],
   "source": [
    "import os\n",
    "\n",
    "files = os.listdir()"
   ]
  },
  {
   "cell_type": "code",
   "execution_count": 4,
   "metadata": {},
   "outputs": [
    {
     "data": {
      "text/plain": [
       "'s07-u10.ipynb'"
      ]
     },
     "execution_count": 4,
     "metadata": {},
     "output_type": "execute_result"
    }
   ],
   "source": [
    "file = files[0]\n",
    "file"
   ]
  },
  {
   "cell_type": "code",
   "execution_count": 5,
   "metadata": {},
   "outputs": [],
   "source": [
    "with open(file, 'r') as f :\n",
    "    text = f.read()"
   ]
  },
  {
   "cell_type": "code",
   "execution_count": 6,
   "metadata": {},
   "outputs": [
    {
     "data": {
      "text/plain": [
       "'{\\n \"cells\": [\\n  {\\n   \"attachments\": {},\\n   \"cell_type\": \"markdown\",\\n   \"metadata\": {},\\n   \"source\": [\\n    \"# Automatic Model Submission\"\\n   ]\\n  },\\n  {\\n   \"attachments\": {},\\n   \"cell_type\": \"markdown\",\\n   \"metadata\": {},\\n   \"source\": [\\n    \"**Section 11. Tips**  \\\\n\",\\n    \"**Unit 06. Automatic Model Submission**\"\\n   ]\\n  },\\n  {\\n   \"attachments\": {},\\n   \"cell_type\": \"markdown\",\\n   \"metadata\": {},\\n   \"source\": [\\n    \"---\\\\n\",\\n    \"<h3>PPT</h3>\"\\n   ]\\n  },\\n  {\\n   \"cell_type\": \"markdown\",\\n   \"metadata\": {},\\n   \"source\": []\\n  },\\n  {\\n   \"attachments\": {},\\n   \"cell_type\": \"markdown\",\\n   \"metadata\": {},\\n   \"source\": [\\n    \"---\\\\n\",\\n    \"<h3>Video</h3>\\\\n\",\\n    \"  | <span title=\\\\\"English, Deutsch, Español, Français, Bahasa Indonesia, Italiano, 日本語, 한국어, Nederlands, Polski, Português, Русский, ภาษาไทย,Türkçe,Tiếng Việt, 简体中文, 繁體中文, हिन्दी, العربية\\\\\"> subtitles in 20 languages.<sup><i class=\\\\\"fa fa-info-circle\\\\\"></i> </sup> </span> | \\\\n\",\\n    \"  <span title=\\\\\"This video is only accessible by Google accounts that have been granted permission. To obtain access, you must contact AI Castle. If you still cannot see it even though you have a Google account with access, try logging in to your Google account and try again.\\\\\"> This video is only visible to authenticated users.<sup> <i class=\\\\\"fa fa-info-circle\\\\\"></i> </sup> </span> |\"\\n   ]\\n  },\\n  {\\n   \"cell_type\": \"markdown\",\\n   \"metadata\": {},\\n   \"source\": []\\n  }\\n ],\\n \"metadata\": {\\n  \"kernelspec\": {\\n   \"display_name\": \"Python 3\",\\n   \"language\": \"python\",\\n   \"name\": \"python3\"\\n  },\\n  \"language_info\": {\\n   \"codemirror_mode\": {\\n    \"name\": \"ipython\",\\n    \"version\": 3\\n   },\\n   \"file_extension\": \".py\",\\n   \"mimetype\": \"text/x-python\",\\n   \"name\": \"python\",\\n   \"nbconvert_exporter\": \"python\",\\n   \"pygments_lexer\": \"ipython3\",\\n   \"version\": \"3.10.6\"\\n  },\\n  \"orig_nbformat\": 4,\\n  \"vscode\": {\\n   \"interpreter\": {\\n    \"hash\": \"31f2aee4e71d21fbe5cf8b01ff0e069b9275f58929596ceb00d14d90e3e16cd6\"\\n   }\\n  }\\n },\\n \"nbformat\": 4,\\n \"nbformat_minor\": 2\\n}\\n'"
      ]
     },
     "execution_count": 6,
     "metadata": {},
     "output_type": "execute_result"
    }
   ],
   "source": [
    "text"
   ]
  },
  {
   "cell_type": "code",
   "execution_count": 8,
   "metadata": {},
   "outputs": [],
   "source": [
    "for file in files :\n",
    "    with open(file, 'r') as f :\n",
    "        text = f.read()\n",
    "    with open(file, 'w') as f :\n",
    "        f.write(text.replace('<h3>Video</h3>', '<h3>Video <a href=\\\\\"\\\\\" target=\\\\\"_blank\\\\\"><span style=\\\\\"font-size: 0.6em;\\\\\">🔗</span></a></h3>'))"
   ]
  }
 ],
 "metadata": {
  "kernelspec": {
   "display_name": "Python 3",
   "language": "python",
   "name": "python3"
  },
  "language_info": {
   "codemirror_mode": {
    "name": "ipython",
    "version": 3
   },
   "file_extension": ".py",
   "mimetype": "text/x-python",
   "name": "python",
   "nbconvert_exporter": "python",
   "pygments_lexer": "ipython3",
   "version": "3.10.6"
  },
  "orig_nbformat": 4,
  "vscode": {
   "interpreter": {
    "hash": "31f2aee4e71d21fbe5cf8b01ff0e069b9275f58929596ceb00d14d90e3e16cd6"
   }
  }
 },
 "nbformat": 4,
 "nbformat_minor": 2
}
