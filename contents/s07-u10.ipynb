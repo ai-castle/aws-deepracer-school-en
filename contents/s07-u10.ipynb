{
 "cells": [
  {
   "attachments": {},
   "cell_type": "markdown",
   "metadata": {},
   "source": [
    "# While Loop"
   ]
  },
  {
   "attachments": {},
   "cell_type": "markdown",
   "metadata": {},
   "source": [
    "<p style=\"display: flex; justify-content: space-between; align-items: center;\">\n",
    "    <b>Unit 10. While Loop</b>\n",
    "    <span><b>Section 07. Python for DeepRacer</b></span>\n",
    "</p>"
   ]
  },
  {
   "attachments": {},
   "cell_type": "markdown",
   "metadata": {},
   "source": [
    "---\n",
    "<h3 style=\"display: flex; justify-content: space-between; align-items: center;\">\n",
    "    PPT\n",
    "\n",
    "</h3>"
   ]
  },
  {
   "attachments": {},
   "cell_type": "markdown",
   "metadata": {},
   "source": [
    "<div style=\"position:relative; width:100%; padding-bottom:65%;\">\n",
    "    <iframe \n",
    "        src=\"https://drive.google.com/file/d/1goqxozXmJDM07jIq4OXWVGoJUxbbhK-W/preview\" \n",
    "        style=\"position:absolute; top:0; left:0; width:100%; height:100%\"></iframe>\n",
    "</div>\n"
   ]
  },
  {
   "attachments": {},
   "cell_type": "markdown",
   "metadata": {},
   "source": [
    "---\n",
    "<h3 style=\"display: flex; justify-content: space-between; align-items: center;\">\n",
    "    Video\n",
    "    <span style=\"font-size: 0.7em;\">\n",
    "        <a href=\"../premium/01.html\" target=\"_blank\" title=\"This video can only be viewed by accounts registered in the premium course\">🚀 Premium Course </a> \n",
    "    </span>\n",
    "    <span style=\"font-size: 0.6em;\">\n",
    "        <a title=\"English, Deutsch, Español, Français, Bahasa Indonesia, Italiano, 日本語, 한국어, Nederlands, Polski, Português, Русский, ภาษาไทย,Türkçe,Tiếng Việt, 简体中文, 繁體中文, हिन्दी, العربية\"><i class=\"fa fa-info-circle\"></i> subtitles in 20 languages</a>\n",
    "    </span>\n",
    "</h3>"
   ]
  },
  {
   "attachments": {},
   "cell_type": "markdown",
   "metadata": {},
   "source": [
    "<div style=\"position:relative; width:100%; padding-bottom:65%;\">\n",
    "    <iframe \n",
    "        src=\"https://drive.google.com/file/d/10I46nDlY4pMW6TdsvPs-Lh5307ABI8sy/preview\" \n",
    "        style=\"position:absolute; top:0; left:0; width:100%; height:100%\"></iframe>\n",
    "</div>\n"
   ]
  },
  {
   "attachments": {},
   "cell_type": "markdown",
   "metadata": {},
   "source": [
    "```{important}\n",
    "- We strongly recommend using **Google Chrome web browser** for the video.\n",
    "- The video can only be viewed on a Google account registered for the **premium course**.\n",
    "  - Can't see the video even though you're registered for the premium course?  \n",
    "  - <a href=\"../premium/04.html\" target=\"_blank\">Troubleshooting Video Playback Issues</a>\n",
    "- **Add Q&A comments**: You can write a question comment on the video by clicking the `Pop out` button in the top right corner of the video.\n",
    "```"
   ]
  },
  {
   "attachments": {},
   "cell_type": "markdown",
   "metadata": {},
   "source": [
    "---\n",
    "## Resources\n",
    "\n",
    "- Go to practice in Colab  \n",
    "  : <https://colab.research.google.com/github/ai-castle/deepracer-lecture-public-data/blob/main/section_07/jupyter_notebook/clear_outputs/English/10_while_Loop.ipynb>\n",
    "\n",
    "- Download All  \n",
    "  : <https://github.com/ai-castle/deepracer-lecture-public-data/raw/main/section_07/jupyter_notebook/clear_outputs/English/compress.zip>\n"
   ]
  }
 ],
 "metadata": {
  "kernelspec": {
   "display_name": "Python 3",
   "language": "python",
   "name": "python3"
  },
  "language_info": {
   "codemirror_mode": {
    "name": "ipython",
    "version": 3
   },
   "file_extension": ".py",
   "mimetype": "text/x-python",
   "name": "python",
   "nbconvert_exporter": "python",
   "pygments_lexer": "ipython3",
   "version": "3.10.6"
  },
  "orig_nbformat": 4,
  "vscode": {
   "interpreter": {
    "hash": "31f2aee4e71d21fbe5cf8b01ff0e069b9275f58929596ceb00d14d90e3e16cd6"
   }
  }
 },
 "nbformat": 4,
 "nbformat_minor": 2
}
