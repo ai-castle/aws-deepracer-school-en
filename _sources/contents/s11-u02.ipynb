{
 "cells": [
  {
   "attachments": {},
   "cell_type": "markdown",
   "metadata": {},
   "source": [
    "# DeepRacer Student"
   ]
  },
  {
   "attachments": {},
   "cell_type": "markdown",
   "metadata": {},
   "source": [
    "<p style=\"display: flex; justify-content: space-between; align-items: center;\">\n",
    "    <b>Unit 02. DeepRacer Student</b>\n",
    "    <span><b>Section 11. Tips</b></span>\n",
    "</p>"
   ]
  },
  {
   "attachments": {},
   "cell_type": "markdown",
   "metadata": {},
   "source": [
    "---\n",
    "<h3>PPT <a href=\"\" target=\"_blank\"><span style=\"font-size: 0.6em;\">🔗</span></a></h3>"
   ]
  },
  {
   "cell_type": "markdown",
   "metadata": {},
   "source": []
  },
  {
   "attachments": {},
   "cell_type": "markdown",
   "metadata": {},
   "source": [
    "---\n",
    "<h3>Video <a href=\"\" target=\"_blank\"><span style=\"font-size: 0.6em;\">🔗</span></a></h3>\n",
    "  | <span title=\"English, Deutsch, Español, Français, Bahasa Indonesia, Italiano, 日本語, 한국어, Nederlands, Polski, Português, Русский, ภาษาไทย,Türkçe,Tiếng Việt, 简体中文, 繁體中文, हिन्दी, العربية\"> subtitles in 20 languages.<sup><i class=\"fa fa-info-circle\"></i> </sup> </span> | \n",
    "  <span title=\"This video is only accessible by Google accounts that have been granted permission. To obtain access, you must contact AI Castle. If you still cannot see it even though you have a Google account with access, try logging in to your Google account and try again.\"> This video is only visible to authenticated users.<sup> <i class=\"fa fa-info-circle\"></i> </sup> </span> |"
   ]
  },
  {
   "cell_type": "markdown",
   "metadata": {},
   "source": []
  }
 ],
 "metadata": {
  "kernelspec": {
   "display_name": "Python 3",
   "language": "python",
   "name": "python3"
  },
  "language_info": {
   "codemirror_mode": {
    "name": "ipython",
    "version": 3
   },
   "file_extension": ".py",
   "mimetype": "text/x-python",
   "name": "python",
   "nbconvert_exporter": "python",
   "pygments_lexer": "ipython3",
   "version": "3.10.6"
  },
  "orig_nbformat": 4,
  "vscode": {
   "interpreter": {
    "hash": "31f2aee4e71d21fbe5cf8b01ff0e069b9275f58929596ceb00d14d90e3e16cd6"
   }
  }
 },
 "nbformat": 4,
 "nbformat_minor": 2
}
