{
 "cells": [
  {
   "attachments": {},
   "cell_type": "markdown",
   "metadata": {},
   "source": [
    "# Create a Community Race"
   ]
  },
  {
   "attachments": {},
   "cell_type": "markdown",
   "metadata": {},
   "source": [
    "<p style=\"display: flex; justify-content: space-between; align-items: center;\">\n",
    "    <b>Unit 04. Create a Community Race</b>\n",
    "    <span><b>Section 11. Tips</b></span>\n",
    "</p>"
   ]
  },
  {
   "attachments": {},
   "cell_type": "markdown",
   "metadata": {},
   "source": [
    "---\n",
    "<h3 style=\"display: flex; justify-content: space-between; align-items: center;\">\n",
    "    PPT\n",
    "    <span style=\"font-size: 0.6em;\">\n",
    "        <a href=\"https://www.canva.com/design/DAFhvrgT-BU/view\" target=\"_blank\">🔗 Link </a>\n",
    "    </span>\n",
    "</h3>"
   ]
  },
  {
   "attachments": {},
   "cell_type": "markdown",
   "metadata": {},
   "source": [
    "<div style=\"position:relative; width:100%; padding-bottom:65%;\">\n",
    "    <iframe \n",
    "        src=\"https://drive.google.com/file/d/1M14Y0IkNebvwtt-2uD3IswV7Ubc8gB_x/preview\" \n",
    "        style=\"position:absolute; top:0; left:0; width:100%; height:100%\"></iframe>\n",
    "</div>\n"
   ]
  },
  {
   "attachments": {},
   "cell_type": "markdown",
   "metadata": {},
   "source": [
    "---\n",
    "<h3 style=\"display: flex; justify-content: space-between; align-items: center;\">\n",
    "    Video\n",
    "    <span style=\"font-size: 0.7em;\">\n",
    "        <a href=\"../premium/01.html\" target=\"_blank\" title=\"This video can only be viewed by accounts registered in the premium course\">🚀 Premium Course </a> \n",
    "    </span>\n",
    "    <span style=\"font-size: 0.6em;\">\n",
    "        <a title=\"English, Deutsch, Español, Français, Bahasa Indonesia, Italiano, 日本語, 한국어, Nederlands, Polski, Português, Русский, ภาษาไทย,Türkçe,Tiếng Việt, 简体中文, 繁體中文, हिन्दी, العربية\"><i class=\"fa fa-info-circle\"></i> subtitles in 20 languages</a> |\n",
    "        <a href=\"https://drive.google.com/file/d/1-MP44zy7L-x3Ca0_CTFZq_atS9FMD-3C\" target=\"_blank\">🔗 Link </a>\n",
    "    </span>\n",
    "</h3>"
   ]
  },
  {
   "attachments": {},
   "cell_type": "markdown",
   "metadata": {},
   "source": [
    "<div style=\"position:relative; width:100%; padding-bottom:65%;\">\n",
    "    <iframe \n",
    "        src=\"https://drive.google.com/file/d/1-MP44zy7L-x3Ca0_CTFZq_atS9FMD-3C/preview\" \n",
    "        style=\"position:absolute; top:0; left:0; width:100%; height:100%\"></iframe>\n",
    "</div>\n"
   ]
  },
  {
   "attachments": {},
   "cell_type": "markdown",
   "metadata": {},
   "source": [
    "```{important}\n",
    "- We strongly recommend using **Google Chrome web browser** for the video.\n",
    "- The video can only be viewed on a Google account registered for the **premium course**.\n",
    "  - Can't see the video even though you're registered for the premium course?  \n",
    "  - <a href=\"../premium/04.html\" target=\"_blank\">Troubleshooting Video Playback Issues</a>\n",
    "- **Add Q&A comments**: You can write a question comment on the video by clicking the `Pop out` button in the top right corner of the video.\n",
    "```"
   ]
  }
 ],
 "metadata": {
  "kernelspec": {
   "display_name": "Python 3",
   "language": "python",
   "name": "python3"
  },
  "language_info": {
   "codemirror_mode": {
    "name": "ipython",
    "version": 3
   },
   "file_extension": ".py",
   "mimetype": "text/x-python",
   "name": "python",
   "nbconvert_exporter": "python",
   "pygments_lexer": "ipython3",
   "version": "3.10.6"
  },
  "orig_nbformat": 4,
  "vscode": {
   "interpreter": {
    "hash": "31f2aee4e71d21fbe5cf8b01ff0e069b9275f58929596ceb00d14d90e3e16cd6"
   }
  }
 },
 "nbformat": 4,
 "nbformat_minor": 2
}
