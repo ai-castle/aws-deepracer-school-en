{
 "cells": [
  {
   "attachments": {},
   "cell_type": "markdown",
   "metadata": {},
   "source": [
    "# Resources"
   ]
  },
  {
   "attachments": {},
   "cell_type": "markdown",
   "metadata": {},
   "source": [
    "<p style=\"display: flex; justify-content: space-between; align-items: center;\">\n",
    "    <b>Unit 08. Resources</b>\n",
    "    <span><b>Section 11. Tips</b></span>\n",
    "</p>"
   ]
  },
  {
   "attachments": {},
   "cell_type": "markdown",
   "metadata": {},
   "source": [
    "---\n",
    "\n",
    "- AWS HomePage  \n",
    "  : <https://www.aws.com>\n",
    "- AWS Console  \n",
    "  : <https://console.aws.amazon.com>\n",
    "- DeepRacer Official Website  \n",
    "  : <https://aws.amazon.com/deepracer>\n",
    "- Trial and Error (Youtube)  \n",
    "  : <https://youtu.be/eVccQ82BekI>\n",
    "- Hide and Seek (Youtube)  \n",
    "  : <https://youtu.be/kopoLzvh5jY>\n",
    "- DeepRacer Pricing  \n",
    "  : <https://aws.amazon.com/deepracer/pricing>\n",
    "- DeepRacer Real Vehicle Sales  \n",
    "  : <https://www.amazon.com/AWS-DeepRacer-Fully-autonomous-developers/dp/B07JMHRKQG?th=1>\n",
    "- DeepRacer Student  \n",
    "  : <https://student.deepracer.com/>\n",
    "  \n",
    "- DeepRacer League  \n",
    "  - WebPage : <https://aws.amazon.com/deepracer/league>\n",
    "  - Docs : <https://d1.awsstatic.com/deepracer/AWS_DEEPRACER_Virtual_Circuit_Rules_FINAL_3_1_2023.pdf>\n",
    "  \n",
    "\n",
    "- A pigeon playing table tennis  \n",
    "  : <https://youtu.be/vGazyH6fQQ4>\n",
    "\n",
    "- Discount Factor Rate Graph\n",
    "  : <https://github.com/ai-castle/deepracer-lecture-public-data/blob/main/section_06/Discount_Factor_Rate.ipynb>\n",
    "  \n",
    "\n",
    "- Google Drive\n",
    "  : <https://drive.google.com>\n",
    "  \n",
    "\n",
    "- Python Practice(Download All)  \n",
    "  : <https://github.com/ai-castle/deepracer-lecture-public-data/raw/main/section_07/jupyter_notebook/clear_outputs/English/compress.zip>\n",
    "\n",
    "\n",
    "- Track Waypoints Visualization   \n",
    "  : <https://colab.research.google.com/github/ai-castle/deepracer-lecture-public-data/blob/main/section_08/Track_Waypoints_Visualization.ipynb>\n",
    "  \n",
    "- Track Information  \n",
    "  : <https://github.com/aws-deepracer-community/deepracer-race-data/tree/main/raw_data/tracks>\n",
    "  \n",
    "\n",
    "- Input params samples  \n",
    "  : <https://github.com/ai-castle/deepracer-lecture-public-data/blob/main/section_08/Input_params_samples.ipynb>\n",
    "  \n",
    "  \n",
    "- Download Logs Samples  \n",
    "  : <https://github.com/ai-castle/deepracer-lecture-public-data/tree/main/log_data_samples>\n",
    "  \n",
    "  \n",
    "  \n",
    "- Log Analysis Examples  \n",
    "  - Practice  \n",
    "    : <https://colab.research.google.com/github/ai-castle/deepracer-lecture-public-data/blob/main/section_09/Log_Analysis.ipynb>\n",
    "  - More  \n",
    "    : <https://github.com/aws-deepracer-community/deepracer-analysis>\n",
    "  \n",
    "  \n",
    "- Device Console  \n",
    "  : <https://deepracer.aws>\n",
    "  \n",
    "- DeepRacer Console  \n",
    "  : https://console.aws.amazon.com/deepracer  \n",
    "  \n",
    "  \n",
    "  \n",
    "- Build your physical track\n",
    "  : <https://docs.aws.amazon.com/deepracer/latest/developerguide/deepracer-build-your-track.html>\n",
    "  \n",
    "- Purchase of track and fence  \n",
    "  : <https://www.amazon.com/gp/browse.html?node=32957528011>\n",
    "  \n",
    "  \n",
    "- Compression of model folder in S3  \n",
    "  : <https://github.com/ai-castle/deepracer-lecture-public-data/blob/main/section_11/Compress_File_of_S3_Folder_in_CloudShell.md>\n",
    "  \n",
    "  \n",
    "- Automated Model Submission Script  \n",
    "  : <https://github.com/ai-castle/deepracer-lecture-public-data/blob/main/section_11/Automated_Model_Submission_Script.md>\n",
    "\n",
    "\n",
    "- DRfC - DeepRacer for Cloud  \n",
    "  : <https://aws-deepracer-community.github.io/deepracer-for-cloud>"
   ]
  }
 ],
 "metadata": {
  "kernelspec": {
   "display_name": "Python 3",
   "language": "python",
   "name": "python3"
  },
  "language_info": {
   "codemirror_mode": {
    "name": "ipython",
    "version": 3
   },
   "file_extension": ".py",
   "mimetype": "text/x-python",
   "name": "python",
   "nbconvert_exporter": "python",
   "pygments_lexer": "ipython3",
   "version": "3.10.6"
  },
  "orig_nbformat": 4,
  "vscode": {
   "interpreter": {
    "hash": "31f2aee4e71d21fbe5cf8b01ff0e069b9275f58929596ceb00d14d90e3e16cd6"
   }
  }
 },
 "nbformat": 4,
 "nbformat_minor": 2
}
