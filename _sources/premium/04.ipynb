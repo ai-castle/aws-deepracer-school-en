{
 "cells": [
  {
   "attachments": {},
   "cell_type": "markdown",
   "metadata": {},
   "source": [
    "# Troubleshooting Video Playback Issues"
   ]
  },
  {
   "attachments": {},
   "cell_type": "markdown",
   "metadata": {},
   "source": [
    "---\n",
    "## Essential Checks\n",
    "\n",
    "**If you are having problems playing the video, please check the following:**\n",
    "\n",
    "### 1. Make sure you are using the **Google Chrome** web browser.\n",
    "   - If you don't have Chrome installed, download it from here >> [Download Google Chrome](https://www.google.com/chrome/)\n",
    "\n",
    "### 2. Make sure you are using the **Google account** registered in the **premium course**.\n",
    "   - All the videos here can only be viewed from an account registered in the premium course. (<a href=\"./01.html\"> Learn about Premium Course </a>)\n",
    "   - The account you want to register for the premium course must be a Google account. If it's not, you need to contact the person in charge who registered you for the premium course.\n",
    "\n",
    "### 3. Check that you are logged in to the premium account.\n",
    "   - Click the following \"[Intro Video Link](https://drive.google.com/file/d/11c1j6fqoYuq9ySNBrDF6akPcvG9KyURP/view)\" to check if the video is playing properly. >> [Intro Video Link](https://drive.google.com/file/d/11c1j6fqoYuq9ySNBrDF6akPcvG9KyURP/view)\n",
    "   - If the video doesn't play and a page saying \"Access Required\" appears, check the logged-in account at the bottom of the screen.\n",
    "   - If the logged-in account is not a premium account, click on the account email and log in again with the premium account. \n"
   ]
  },
  {
   "attachments": {},
   "cell_type": "markdown",
   "metadata": {},
   "source": [
    "---\n",
    "If you still cannot see the video even after satisfying all the above requirements, please send an email to edu@ai-castle.com with your affiliation, email, and symptoms."
   ]
  }
 ],
 "metadata": {
  "kernelspec": {
   "display_name": "Python 3",
   "language": "python",
   "name": "python3"
  },
  "language_info": {
   "codemirror_mode": {
    "name": "ipython",
    "version": 3
   },
   "file_extension": ".py",
   "mimetype": "text/x-python",
   "name": "python",
   "nbconvert_exporter": "python",
   "pygments_lexer": "ipython3",
   "version": "3.10.6"
  },
  "orig_nbformat": 4,
  "vscode": {
   "interpreter": {
    "hash": "31f2aee4e71d21fbe5cf8b01ff0e069b9275f58929596ceb00d14d90e3e16cd6"
   }
  }
 },
 "nbformat": 4,
 "nbformat_minor": 2
}
