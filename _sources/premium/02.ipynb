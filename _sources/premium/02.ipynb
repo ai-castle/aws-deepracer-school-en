{
 "cells": [
  {
   "attachments": {},
   "cell_type": "markdown",
   "metadata": {},
   "source": [
    "# PayPal"
   ]
  },
  {
   "attachments": {},
   "cell_type": "markdown",
   "metadata": {},
   "source": [
    "<!-- Replace \"test\" with your own sandbox Business account app client ID -->\n",
    "<script src=\"https://www.paypal.com/sdk/js?client-id=test&currency=USD\"></script>\n",
    "<!-- Set up a container element for the button -->\n",
    "<div id=\"paypal-button-container\"></div>\n",
    "<script>\n",
    "  paypal.Buttons({\n",
    "    // Order is created on the server and the order id is returned\n",
    "    createOrder() {\n",
    "      return fetch(\"/my-server/create-paypal-order\", {\n",
    "        method: \"POST\",\n",
    "        headers: {\n",
    "          \"Content-Type\": \"application/json\",\n",
    "        },\n",
    "        // use the \"body\" param to optionally pass additional order information\n",
    "        // like product skus and quantities\n",
    "        body: JSON.stringify({\n",
    "          cart: [\n",
    "            {\n",
    "              sku: \"YOUR_PRODUCT_STOCK_KEEPING_UNIT\",\n",
    "              quantity: \"YOUR_PRODUCT_QUANTITY\",\n",
    "            },\n",
    "          ],\n",
    "        }),\n",
    "      })\n",
    "      .then((response) => response.json())\n",
    "      .then((order) => order.id);\n",
    "    },\n",
    "    // Finalize the transaction on the server after payer approval\n",
    "    onApprove(data) {\n",
    "      return fetch(\"/my-server/capture-paypal-order\", {\n",
    "        method: \"POST\",\n",
    "        headers: {\n",
    "          \"Content-Type\": \"application/json\",\n",
    "        },\n",
    "        body: JSON.stringify({\n",
    "          orderID: data.orderID\n",
    "        })\n",
    "      })\n",
    "      .then((response) => response.json())\n",
    "      .then((orderData) => {\n",
    "        // Successful capture! For dev/demo purposes:\n",
    "        console.log('Capture result', orderData, JSON.stringify(orderData, null, 2));\n",
    "        const transaction = orderData.purchase_units[0].payments.captures[0];\n",
    "        alert(`Transaction ${transaction.status}: ${transaction.id}\\n\\nSee console for all available details`);\n",
    "        // When ready to go live, remove the alert and show a success message within this page. For example:\n",
    "        // const element = document.getElementById('paypal-button-container');\n",
    "        // element.innerHTML = '<h3>Thank you for your payment!</h3>';\n",
    "        // Or go to another URL:  window.location.href = 'thank_you.html';\n",
    "      });\n",
    "    }\n",
    "  }).render('#paypal-button-container');\n",
    "</script>"
   ]
  }
 ],
 "metadata": {
  "kernelspec": {
   "display_name": "Python 3",
   "language": "python",
   "name": "python3"
  },
  "language_info": {
   "codemirror_mode": {
    "name": "ipython",
    "version": 3
   },
   "file_extension": ".py",
   "mimetype": "text/x-python",
   "name": "python",
   "nbconvert_exporter": "python",
   "pygments_lexer": "ipython3",
   "version": "3.10.6"
  },
  "orig_nbformat": 4,
  "vscode": {
   "interpreter": {
    "hash": "31f2aee4e71d21fbe5cf8b01ff0e069b9275f58929596ceb00d14d90e3e16cd6"
   }
  }
 },
 "nbformat": 4,
 "nbformat_minor": 2
}
