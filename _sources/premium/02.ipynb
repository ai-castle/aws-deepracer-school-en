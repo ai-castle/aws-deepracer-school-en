{
 "cells": [
  {
   "attachments": {},
   "cell_type": "markdown",
   "metadata": {},
   "source": [
    "# Pricing"
   ]
  },
  {
   "attachments": {},
   "cell_type": "markdown",
   "metadata": {},
   "source": [
    "### Premium Pricing\n",
    "\n",
    "<h1> <b>$15</b> </h1>\n",
    "\n",
    "- **$15 per member per month**\n",
    "- Unlimited access to PPTs\n",
    "- Unlimited streaming of all video lectures\n",
    "- The total duration of the video is approximately 8 hours.\n",
    "- Subtitles available in 20 languages: \n",
    "  > English, Deutsch, Español, Français, Bahasa Indonesia, Italiano, 日本語, 한국어, Nederlands, Polski, Português, Русский, ภาษาไทย,Türkçe,Tiếng Việt, 简体中文, 繁體中文, हिन्दी, العربية\n",
    "- Q&A: Ask and receive answers by commenting on the video.\n",
    "---"
   ]
  },
  {
   "attachments": {},
   "cell_type": "markdown",
   "metadata": {},
   "source": [
    "### Fee Discounts\n",
    "- Duration Discount: Additional 25% discount for more than 3 months\n",
    "- Number of Members Discount: Additional 10% discount for 100 or more members, and 20% discount for 200 or more members\n",
    "---"
   ]
  },
  {
   "attachments": {},
   "cell_type": "markdown",
   "metadata": {},
   "source": [
    "### Pricing Calculator\n",
    "\n",
    "<div class=\"form-group\">\n",
    "    <label for=\"numStudents\">Number of Members:</label>\n",
    "    <input type=\"number\" id=\"numStudents\" name=\"numStudents\" oninput=\"calculatePrice()\" value=\"1\">\n",
    "</div>\n",
    "<div class=\"form-group\">\n",
    "    <label for=\"numMonths\">Duration (Months):</label>\n",
    "    <input type=\"number\" id=\"numMonths\" name=\"numMonths\" oninput=\"calculatePrice()\" value=\"1\">\n",
    "</div>\n",
    "<b> <p id=\"result\">Total Price: $15 (Discount Rate: 0%)</p></b>\n",
    "<p>Price does not include VAT.</p>\n",
    "<script>\n",
    "    function calculatePrice() {\n",
    "        // Get input values\n",
    "        var numStudents = parseInt(document.getElementById(\"numStudents\").value);\n",
    "        var numMonths = parseInt(document.getElementById(\"numMonths\").value);\n",
    "        // Calculate discounts\n",
    "        var discountRate = 0;\n",
    "        if (numMonths >= 3) {\n",
    "            discountRate += 0.25;\n",
    "        }\n",
    "        if (numStudents >= 100) {\n",
    "            discountRate += 0.1;\n",
    "        }\n",
    "        if (numStudents >= 200) {\n",
    "            discountRate += 0.1;\n",
    "        }\n",
    "        // Calculate pricing\n",
    "        var basePrice = numStudents * 15 * numMonths;\n",
    "        var discountAmount = basePrice * discountRate;\n",
    "        var totalPrice = basePrice - discountAmount;\n",
    "        // Print results\n",
    "        var result = \"Total Price: $\" + totalPrice.toFixed(2) + \" (Discount Rate: \" + (discountRate * 100).toFixed(0) + \"%)\";\n",
    "        document.getElementById(\"result\").innerHTML = result;\n",
    "    }\n",
    "</script>"
   ]
  }
 ],
 "metadata": {
  "kernelspec": {
   "display_name": "Python 3",
   "language": "python",
   "name": "python3"
  },
  "language_info": {
   "codemirror_mode": {
    "name": "ipython",
    "version": 3
   },
   "file_extension": ".py",
   "mimetype": "text/x-python",
   "name": "python",
   "nbconvert_exporter": "python",
   "pygments_lexer": "ipython3",
   "version": "3.10.6"
  },
  "orig_nbformat": 4,
  "vscode": {
   "interpreter": {
    "hash": "31f2aee4e71d21fbe5cf8b01ff0e069b9275f58929596ceb00d14d90e3e16cd6"
   }
  }
 },
 "nbformat": 4,
 "nbformat_minor": 2
}
