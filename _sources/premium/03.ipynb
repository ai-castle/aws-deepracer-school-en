{
 "cells": [
  {
   "attachments": {},
   "cell_type": "markdown",
   "metadata": {},
   "source": [
    "# Pricing"
   ]
  },
  {
   "attachments": {},
   "cell_type": "markdown",
   "metadata": {},
   "source": [
    "<h1>온라인 강의 판매금액 계산</h1>\n",
    "<form id=\"price-form\">\n",
    "    <label for=\"students\">학생 수:</label>\n",
    "    <input type=\"number\" id=\"students\" name=\"students\" min=\"1\" required>\n",
    "    <button type=\"submit\">금액 계산</button>\n",
    "</form>\n",
    "<p id=\"result\"></p>\n",
    "\n",
    "<script>\n",
    "    document.getElementById(\"price-form\").addEventListener(\"submit\", function(event) {\n",
    "        event.preventDefault();\n",
    "\n",
    "        const numberOfStudents = parseInt(document.getElementById(\"students\").value, 10);\n",
    "        const pricePerStudent = 20;\n",
    "        let discount = 0;\n",
    "\n",
    "        if (numberOfStudents >= 200) {\n",
    "            discount = 0.7;\n",
    "        } else if (numberOfStudents >= 100) {\n",
    "            discount = 0.5;\n",
    "        } else if (numberOfStudents >= 50) {\n",
    "            discount = 0.3;\n",
    "        } else if (numberOfStudents >= 10) {\n",
    "            discount = 0.1;\n",
    "        }\n",
    "\n",
    "        const totalPrice = numberOfStudents * pricePerStudent * (1 - discount);\n",
    "        document.getElementById(\"result\").innerText = `전체 판매금액: $${totalPrice.toFixed(2)}`;\n",
    "    });\n",
    "</script>"
   ]
  }
 ],
 "metadata": {
  "kernelspec": {
   "display_name": "Python 3",
   "language": "python",
   "name": "python3"
  },
  "language_info": {
   "codemirror_mode": {
    "name": "ipython",
    "version": 3
   },
   "file_extension": ".py",
   "mimetype": "text/x-python",
   "name": "python",
   "nbconvert_exporter": "python",
   "pygments_lexer": "ipython3",
   "version": "3.10.6"
  },
  "orig_nbformat": 4,
  "vscode": {
   "interpreter": {
    "hash": "31f2aee4e71d21fbe5cf8b01ff0e069b9275f58929596ceb00d14d90e3e16cd6"
   }
  }
 },
 "nbformat": 4,
 "nbformat_minor": 2
}
