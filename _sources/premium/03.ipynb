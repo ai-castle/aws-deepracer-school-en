{
 "cells": [
  {
   "attachments": {},
   "cell_type": "markdown",
   "metadata": {},
   "source": [
    "# Apply for Premium Course"
   ]
  },
  {
   "attachments": {},
   "cell_type": "markdown",
   "metadata": {},
   "source": [
    "```{admonition} Requirements\n",
    "- Members and students who want to take Premium Course should have a Google account email ready.\n",
    "- Institutions and organizations that want to pay for Premium Course should have a PayPal account ready.\n",
    "```"
   ]
  },
  {
   "attachments": {},
   "cell_type": "markdown",
   "metadata": {},
   "source": [
    "## Step1. Application Form Submission\n",
    "\n",
    "- Send an email to edu@ai-castle.com according to the form below.\n",
    "  ```\n",
    "  [Subject]\n",
    "  AWS DeepRacer School Application Form\n",
    "\n",
    "  [Content]\n",
    "  - Contact Email: \n",
    "  - Contact Phone Number: \n",
    "  - Organization or Institution Name: \n",
    "  - Country:\n",
    "  - Address:\n",
    "  - Postal Code:\n",
    "  - Number of Members Applying for Premium Course:\n",
    "  - Duration of Premium Course (Months):\n",
    "  - Premium Course Start Date (UTC): yyyy/mm/dd\n",
    "  ```"
   ]
  },
  {
   "attachments": {},
   "cell_type": "markdown",
   "metadata": {},
   "source": [
    "## Step2. Invoice Confirmation and Payment\n",
    "\n",
    "- We will send an invoice to the email you sent in Step1. (Maximum 1 day required)\n",
    "- Confirm the received invoice and proceed with payment.\n",
    "  > The invoice will be sent via PayPal, and payment must be made through PayPal. "
   ]
  },
  {
   "attachments": {},
   "cell_type": "markdown",
   "metadata": {},
   "source": [
    "## Step3. Sending Google Account Email List of Members\n",
    "\n",
    "- You must send the list of Google account email addresses for members and students who want to take the course to edu@ai-castle.com.\n",
    "- Please note the following:\n",
    "  - The list of member and student Google account email addresses must be sent at least two days before the `Premium Course Start Date (UTC)` written in Step1.\n",
    "  - The member and student email addresses must be a **Google account**. Note that a Google account does not necessarily have to end with @gmail.com. Any email address that can log in to a Google account is acceptable.\n",
    "- AI Castle is not responsible for any disadvantages that may occur if the above precautions are not taken."
   ]
  },
  {
   "attachments": {},
   "cell_type": "markdown",
   "metadata": {},
   "source": [
    "## Step4. Start Premium Course\n",
    "\n",
    "- After completing the above process, members and students will be able to watch all the videos of this course from `Premium Course Start Date (UTC)` 00:00. "
   ]
  }
 ],
 "metadata": {
  "kernelspec": {
   "display_name": "Python 3",
   "language": "python",
   "name": "python3"
  },
  "language_info": {
   "codemirror_mode": {
    "name": "ipython",
    "version": 3
   },
   "file_extension": ".py",
   "mimetype": "text/x-python",
   "name": "python",
   "nbconvert_exporter": "python",
   "pygments_lexer": "ipython3",
   "version": "3.10.6"
  },
  "orig_nbformat": 4,
  "vscode": {
   "interpreter": {
    "hash": "31f2aee4e71d21fbe5cf8b01ff0e069b9275f58929596ceb00d14d90e3e16cd6"
   }
  }
 },
 "nbformat": 4,
 "nbformat_minor": 2
}
