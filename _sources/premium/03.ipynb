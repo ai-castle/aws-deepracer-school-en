{
 "cells": [
  {
   "attachments": {},
   "cell_type": "markdown",
   "metadata": {},
   "source": [
    "# Apply for Premium Course"
   ]
  },
  {
   "attachments": {},
   "cell_type": "markdown",
   "metadata": {},
   "source": [
    "```{admonition} Requirements\n",
    "- Members and students who want to take Premium Course should have a Google account email ready.\n",
    "- Institutions and organizations that want to pay for Premium Course should have a PayPal account ready.\n",
    "```"
   ]
  },
  {
   "attachments": {},
   "cell_type": "markdown",
   "metadata": {},
   "source": [
    "[Open application form in new tab](https://docs.google.com/forms/d/e/1FAIpQLScKeevY4d-nrBZdpZ6sCveHuHHq0gnGBf8hlolCj0Y6TWWMaA/viewform?usp=sf_link)"
   ]
  },
  {
   "attachments": {},
   "cell_type": "markdown",
   "metadata": {},
   "source": [
    "<div style=\"position: relative; width: 100%; height: 0; padding-top: 500%;\n",
    " padding-bottom: 0; box-shadow: 0 2px 8px 0 rgba(63,69,81,0.16); margin-top: 1.6em; margin-bottom: 0.9em; overflow: hidden;\n",
    " border-radius: 8px; will-change: transform;\">\n",
    "  <iframe loading=\"lazy\" style=\"position: absolute; width: 100%; height: 100%; top: 0; left: 0; border: none; padding: 0;margin: 0;\"\n",
    "    src=\"https://docs.google.com/forms/d/e/1FAIpQLScKeevY4d-nrBZdpZ6sCveHuHHq0gnGBf8hlolCj0Y6TWWMaA/viewform?embedded=true\" allowfullscreen=\"allowfullscreen\" allow=\"fullscreen\" allow=\"fullscreen\" frameborder=\"0\" marginheight=\"0\" marginwidth=\"0\">Loading...\n",
    "  </iframe>\n",
    "</div>"
   ]
  }
 ],
 "metadata": {
  "kernelspec": {
   "display_name": "Python 3",
   "language": "python",
   "name": "python3"
  },
  "language_info": {
   "codemirror_mode": {
    "name": "ipython",
    "version": 3
   },
   "file_extension": ".py",
   "mimetype": "text/x-python",
   "name": "python",
   "nbconvert_exporter": "python",
   "pygments_lexer": "ipython3",
   "version": "3.10.6"
  },
  "orig_nbformat": 4,
  "vscode": {
   "interpreter": {
    "hash": "31f2aee4e71d21fbe5cf8b01ff0e069b9275f58929596ceb00d14d90e3e16cd6"
   }
  }
 },
 "nbformat": 4,
 "nbformat_minor": 2
}
