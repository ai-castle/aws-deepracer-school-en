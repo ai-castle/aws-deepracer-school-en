{
 "cells": [
  {
   "attachments": {},
   "cell_type": "markdown",
   "metadata": {},
   "source": [
    "# Application Process"
   ]
  },
  {
   "attachments": {},
   "cell_type": "markdown",
   "metadata": {},
   "source": [
    "```{admonition} 준비물\n",
    "- Premium Course를 수강하려는 **멤버 및 학생들은 구글 계정 이메일**이 준비되어 있어야 합니다.\n",
    "- Premium Course를 결제하려는 **기관 및 조직은 PayPal 계정**이 준비되어야 합니다.\n",
    "```"
   ]
  },
  {
   "attachments": {},
   "cell_type": "markdown",
   "metadata": {},
   "source": [
    "## Step1. 신청서 작성 및 보내기\n",
    "\n",
    "- 아래 양식에 따라 <edu@ai-castle.com>로 이메일을 보냅니다.\n",
    "  ```\n",
    "  [제목] \n",
    "  AWS DeepRacer School 신청서\n",
    "\n",
    "  [내용]\n",
    "  - 담당자 이메일 : \n",
    "  - 담당자 전화번호 : \n",
    "  - 조직 및 기관 이름 : \n",
    "  - 국가 :\n",
    "  - 주소 :\n",
    "  - 우편번호 :\n",
    "\n",
    "  - Premium Course 신청 멤버수 (명) :\n",
    "  - Premium Course 신청 기간 (월) :\n",
    "  - Premium Course 시작일 (UTC) : yyyy/mm/dd\n",
    "  ```"
   ]
  },
  {
   "attachments": {},
   "cell_type": "markdown",
   "metadata": {},
   "source": [
    "## Step2. 인보이스 확인 및 결제\n",
    "\n",
    "- Step1에서 보낸 메일을 확인하여 해당 메일로 인보이스를 발송해 드립니다. (최대 하루 소요)\n",
    "- 받아 본 인보이스를 확인하고 결제를 진행합니다.\n",
    "  > 인보이스는 PayPal을 통해 발송되며 PayPal을 통해 결제를 진행해야 합니다. "
   ]
  },
  {
   "attachments": {},
   "cell_type": "markdown",
   "metadata": {},
   "source": [
    "## Step3. 멤버 구글 계정 이메일 리스트 발송\n",
    "\n",
    "- 코스를 수강하려는 멤버 및 학생들의 구글 계정 이메일 리스트를 <edu@ai-castle.com>로 보내야 합니다.\n",
    "- 아래 사항을 반드시 유의해야 합니다.\n",
    "  - Step1에서 작성한 `Premium Course 시작일 (UTC)`에서 **최소 이틀 전**까지 멤버 및 학생들의 구글 계정 이메일 리스트를 보내야 합니다.\n",
    "  - 멤버 및 학생들의 계정 이메일은 반드시 **구글 계정**이어야 합니다. 참고로 구글 계정이라고 해서 반드시 @gmail.com 로 끝나는 것은 아닙니다. 구글 계정에 로그인이 가능한 이메일이라면 @gmail.com으로 끝나지 않아도 괜찮습니다.\n",
    "- 위의 유의사항을 지키지 않을 시 발생하는 불이익에 대해서는 AI Castle에서 책임지지 않습니다."
   ]
  },
  {
   "attachments": {},
   "cell_type": "markdown",
   "metadata": {},
   "source": [
    "## Step4. Premium Course 수강 시작\n",
    "\n",
    "- 위 과정이 모두 완료되면  `Premium Course 시작일 (UTC)` 00:00에 맞추어 멤버 및 학생들은 본 과정의 모든 동영상을 시청 가능하게 됩니다. "
   ]
  }
 ],
 "metadata": {
  "kernelspec": {
   "display_name": "Python 3",
   "language": "python",
   "name": "python3"
  },
  "language_info": {
   "codemirror_mode": {
    "name": "ipython",
    "version": 3
   },
   "file_extension": ".py",
   "mimetype": "text/x-python",
   "name": "python",
   "nbconvert_exporter": "python",
   "pygments_lexer": "ipython3",
   "version": "3.10.6"
  },
  "orig_nbformat": 4,
  "vscode": {
   "interpreter": {
    "hash": "31f2aee4e71d21fbe5cf8b01ff0e069b9275f58929596ceb00d14d90e3e16cd6"
   }
  }
 },
 "nbformat": 4,
 "nbformat_minor": 2
}
